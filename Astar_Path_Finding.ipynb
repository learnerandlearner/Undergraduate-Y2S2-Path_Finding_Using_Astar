{
 "cells": [
  {
   "attachments": {},
   "cell_type": "markdown",
   "id": "18006cda",
   "metadata": {},
   "source": [
    "<a id = \"Table_of_content\"></a>\n",
    "# Table of content\n",
    "### 1. [Setting Up Environment](#environment_setup)\n",
    "### 2. [A* Search Algorithm](#astar_algorithm)\n",
    "### 3. [A* Path Finding on data_1.txt Map](#data_1)\n",
    "### 4. [A* Path Finding on Competition Map](#competition_map)\n",
    "#### &emsp;► [Round_1_Map](#round_1)\n",
    "#### &emsp;► [Round_2_Map](#round_2)\n",
    "#### &emsp;► [Round_3_Map](#round_3)"
   ]
  },
  {
   "cell_type": "code",
   "execution_count": 3,
   "id": "f7ad8663",
   "metadata": {},
   "outputs": [],
   "source": [
    "# import library\n",
    "import numpy as np\n",
    "import matplotlib.pyplot as plt\n",
    "from matplotlib.colors import ListedColormap\n",
    "import time\n",
    "import math "
   ]
  },
  {
   "attachments": {},
   "cell_type": "markdown",
   "id": "c3286e6e",
   "metadata": {},
   "source": [
    "<a id = \"environment_setup\"></a></a><div style=\"text-align: right\"> <a href=#Table_of_content>Back?</a> </div>\n",
    "# Setting Up Environment"
   ]
  },
  {
   "cell_type": "code",
   "execution_count": 4,
   "id": "1b4f2db9",
   "metadata": {},
   "outputs": [],
   "source": [
    "# function to create an environment from txt file\n",
    "def create_environment(txt):\n",
    "\n",
    "    # extract map in txt file into a list\n",
    "    list = [] # list to store the element in data txt file\n",
    "\n",
    "    with open (txt, 'rt') as file:\n",
    "        for line in file:\n",
    "            for character in line:\n",
    "                list.append(character.split()) # split each character, in order to separate them\n",
    "    \n",
    "    \"\"\"\n",
    "    convert string in list to integer ('.' to 0, 'W' to 1, 'S' to 2, 'T' to 3)\n",
    "    '.': available path, 'W': obstacle, 'S': starting point, 'T': end point\n",
    "    create an environment for the path searching\n",
    "    \"\"\"\n",
    "\n",
    "    environment = []\n",
    "\n",
    "    for line in list:\n",
    "        for element in line:\n",
    "            if (element == 'W'): # obstacles\n",
    "                environment.append(1)\n",
    "            elif (element == '.'): # available path\n",
    "                environment.append(0)\n",
    "            elif (element == 'S'): # starting point\n",
    "                environment.append(2)\n",
    "            elif (element == 'T'): # ending point\n",
    "                environment.append(3)   \n",
    "    \n",
    "    environment = np.array(environment).reshape(400, 365)\n",
    "    environment = environment.astype('float32')\n",
    "    print('The shape of the environment array is :', environment.shape) # Check the environment shape (For this project should be (400,365))\n",
    "\n",
    "    return environment"
   ]
  },
  {
   "cell_type": "code",
   "execution_count": 5,
   "id": "579f1fdd",
   "metadata": {},
   "outputs": [],
   "source": [
    "# function get index of starting point and target points\n",
    "def ind(array, item):\n",
    "    \n",
    "    for idx, val in np.ndenumerate(array):\n",
    "        if val == item:\n",
    "            return idx"
   ]
  },
  {
   "cell_type": "code",
   "execution_count": 6,
   "id": "6d692918",
   "metadata": {},
   "outputs": [],
   "source": [
    "# function to set up final environment for the map\n",
    "def environment_setup(environmemt):\n",
    "\n",
    "    \"\"\"\n",
    "    construct enviornment with only '1' and '0'\n",
    "    # 0.0 - a free cell\n",
    "    # 1.0 - obstacles\n",
    "    \"\"\"\n",
    "    env = np.array(environmemt).reshape(400, 365)\n",
    "    env = env.astype('float32')\n",
    "\n",
    "    # replace all element of starting and targets as 0.0\n",
    "    env[env == 2.0] = 0\n",
    "    env[env == 3.0] = 0\n",
    "\n",
    "    return env"
   ]
  },
  {
   "cell_type": "code",
   "execution_count": 7,
   "id": "cba52de3",
   "metadata": {},
   "outputs": [],
   "source": [
    "# Create a function to plot the environment and the optimal path\n",
    "def plot(environment, path):\n",
    "\n",
    "    cmap = ListedColormap(['w','k']) # Create a colormap for out visualization map\n",
    "    plt.matshow(environment.T, cmap = cmap) # Plot the environment\n",
    "    x_val = [x[0] for x in path]\n",
    "    y_val = [x[1] for x in path]\n",
    "    plt.plot(x_val,y_val, linewidth = 1.5) # Plot the optimal path\n",
    "    plt.gca().invert_yaxis()\n",
    "    plt.show()"
   ]
  },
  {
   "cell_type": "code",
   "execution_count": 9,
   "id": "f08a34a3",
   "metadata": {},
   "outputs": [],
   "source": [
    "# Create a helper function to check two list intersection\n",
    "def check_common(list1, list2):\n",
    "\n",
    "    common = [(a,b) for (a,b) in list1 for (c,d) in list2 if ((a==c) and (b==d))]\n",
    "    return common"
   ]
  },
  {
   "attachments": {},
   "cell_type": "markdown",
   "id": "d37c7850",
   "metadata": {},
   "source": [
    "<a id = \"astar_algorithm\"></a></a><div style=\"text-align: right\"> <a href=#Table_of_content>Back?</a> </div>\n",
    "# A* Search Algorithm\n",
    "\n",
    "In the A* Path Finding Algorithm, we will have two choices of heuristic function: **Euclidean Heuristic Function** and **Manhattan Heuristic Function**."
   ]
  },
  {
   "cell_type": "code",
   "execution_count": 10,
   "id": "1adfab81",
   "metadata": {},
   "outputs": [],
   "source": [
    "# Function to calculate total cost of the optimal path\n",
    "def calculate_cost(path):\n",
    "\n",
    "    \"\"\"If the specific path is diagonal to its parent square then the cost is 14 else the cost is 10\"\"\"    \n",
    "    \n",
    "    total_cost = 0\n",
    "    for i in range(1,len(path)):\n",
    "            change_in_x = path[i][0] - path[i-1][0]\n",
    "            change_in_y = path[i][1] - path[i-1][1]\n",
    "            total_cost += 14 if abs(change_in_x) + abs(change_in_y) == 2 else 10\n",
    "    return total_cost"
   ]
  },
  {
   "cell_type": "code",
   "execution_count": 11,
   "id": "bc01564f",
   "metadata": {},
   "outputs": [],
   "source": [
    "# A function to get the euclidean distance of two points\n",
    "def euclidean_distance_checker(start, target):\n",
    "    return math.dist(start, target)"
   ]
  },
  {
   "cell_type": "code",
   "execution_count": 12,
   "id": "768dd395",
   "metadata": {},
   "outputs": [],
   "source": [
    "# A function to get manhattan distance of two points \n",
    "def manhattan_distance_checker(start, target):\n",
    "    return abs(start[0] - target[0]) + abs(start[1] - target[1])"
   ]
  },
  {
   "cell_type": "code",
   "execution_count": 13,
   "id": "f393d6b0",
   "metadata": {},
   "outputs": [],
   "source": [
    "# A node class for element in the map\n",
    "class Node():\n",
    "    \n",
    "    \"\"\" A node class: each position in the map is considered as a node\"\"\"\n",
    "    def __init__(self, parent = None, position = None):\n",
    "        self.parent = parent\n",
    "        self.position = position\n",
    "        \n",
    "        self.g = 0\n",
    "        self.h = 0\n",
    "        self.f = 0\n",
    "    \n",
    "    def __eq__(self, other):\n",
    "        return self.position == other.position"
   ]
  },
  {
   "cell_type": "code",
   "execution_count": 14,
   "id": "90a853d3",
   "metadata": {},
   "outputs": [],
   "source": [
    "# A* Search function\n",
    "def astar(maze, start, target, heuristic):\n",
    "    \n",
    "    if (heuristic != 'manhattan' and heuristic != 'euclidean'):\n",
    "        return\n",
    "    # Create agent node\n",
    "    start_node = Node(None, start)\n",
    "    start_node.g = start_node.h = start_node.f = 0\n",
    "    target_node = Node(None, target)\n",
    "    target_node.g = target_node.h = target_node.f = 0\n",
    "    \n",
    "    # Open list (not visited) and closed list (visited)\n",
    "    open_list = []\n",
    "    closed_list = []\n",
    "    \n",
    "    # Add agent to open list\n",
    "    open_list.append(start_node)\n",
    "    \n",
    "    # A star algorithm\n",
    "    while len(open_list) > 0:\n",
    "    \n",
    "        # Get current node\n",
    "        current_node = open_list[0]\n",
    "        current_index = 0\n",
    "    \n",
    "        # Search for the node with lowest f value\n",
    "        for index, item in enumerate(open_list):\n",
    "            if item.f < current_node.f:\n",
    "                current_node = item\n",
    "                current_index = index\n",
    "    \n",
    "        # Pop the node with lowest f value from open list, and add it to closed list\n",
    "        open_list.pop(current_index)\n",
    "        if current_node in closed_list:\n",
    "            continue\n",
    "        else:\n",
    "            closed_list.append(current_node)\n",
    "    \n",
    "        # Found the target\n",
    "        if current_node == target_node:\n",
    "            path = []\n",
    "            visited = []\n",
    "            current = current_node\n",
    "            while current is not None:\n",
    "                path.append(current.position)\n",
    "                current = current.parent\n",
    "            for node in closed_list:\n",
    "                visited.append(node.position)\n",
    "        \n",
    "            return (path[::-1], len(closed_list)) # Return Optimal Path and number of nodes that has been explored\n",
    "                \n",
    "        # Find the adjcents of the current node\n",
    "        children = []\n",
    "\n",
    "        \"\"\"\"\n",
    "        We have 8 possible move: left, up-left, up, up-right, right, down-right, down, down-left\n",
    "\n",
    "        (-1,-1)      (-1,0)      (-1,1)\n",
    "                      \n",
    "        (0,-1)   (current node)  (0,1)\n",
    "\n",
    "        (1,-1)       (1,0)       (1,1)\n",
    "\n",
    "        \"\"\"\n",
    "\n",
    "        for possible_move in [(0, -1), (0, 1), (-1, 0), (1, 0), (-1, 1), (-1, -1), (1, -1), (1, 1)]:\n",
    "        \n",
    "            # Get adjacent position\n",
    "            node_position = (current_node.position[0] + possible_move[0], current_node.position[1] + possible_move[1])\n",
    "        \n",
    "            # Check if it is inside the maze\n",
    "            if node_position[0] > (len(maze) - 1) or node_position[0] < 0 or node_position[1] > (len(maze[len(maze) - 1]) - 1) or node_position[1] < 0:\n",
    "                continue\n",
    "\n",
    "            # Check if it is not an obstacle\n",
    "            if maze[node_position[0]][node_position[1]] != 0:\n",
    "                continue\n",
    "        \n",
    "            # Create a new node for adjacent position\n",
    "            new_node = Node(current_node, node_position)\n",
    "        \n",
    "            # Append it to current node children\n",
    "            children.append(new_node)\n",
    "    \n",
    "        # Loop through thechildren list\n",
    "        for child in children:\n",
    "        \n",
    "            # Check if child is visited\n",
    "            if len([closed_child for closed_child in closed_list if closed_child == child]) > 0:\n",
    "                continue\n",
    "        \n",
    "            # Obtain f, g, h values\n",
    "            \n",
    "            child.g = current_node.g + 1 # calculate g (distance between current and start node)\n",
    "            \n",
    "            # caculate heuristic (two choices: euclidean or manhattan)\n",
    "            # heuristic: estimated distance of current node and target node\n",
    "            if heuristic == 'euclidean': # Euclidean heuristic function\n",
    "                child.h = np.sqrt(((child.position[0] - target_node.position[0]) ** 2) + ((child.position[1] - target_node.position[1]) ** 2))\n",
    "            elif heuristic == 'manhattan': # Manhattan heuristic function\n",
    "                child.h = abs(child.position[0] - target_node.position[0]) + abs(child.position[1] - target_node.position[1])\n",
    "            \n",
    "            child.f = child.g + child.h # calculate f (total cost of the node)\n",
    "        \n",
    "            # Child visited but not discovered\n",
    "            if len([open_node for open_node in open_list if child.position == open_node.position and child.g > open_node.g]) > 0:\n",
    "                continue\n",
    "        \n",
    "            # Add the child to open list\n",
    "            open_list.append(child)"
   ]
  },
  {
   "cell_type": "code",
   "execution_count": 15,
   "id": "8cddc14d",
   "metadata": {},
   "outputs": [],
   "source": [
    "# A function to run A* search\n",
    "def run_astar(maze, start, points, heuristic):\n",
    "\n",
    "    total_path = [] # a list to store the path \n",
    "    total_visited = 0 # a variable to update the number of nodes visited\n",
    "    dist = [] # a list to store the distance between target and starting point\n",
    "    total_cost = 0 # a variable to update the total cost of optimal path\n",
    "    \n",
    "    # Loop through all targets and calculate their distance with starting point\n",
    "    for target in points:\n",
    "        if heuristic == 'euclidean':\n",
    "            target_dist = euclidean_distance_checker(start, target)\n",
    "        if heuristic == 'manhattan':\n",
    "            target_dist = manhattan_distance_checker(start, target)\n",
    "        dist.append(target_dist)\n",
    "    dist.sort() # sort the distance from smallest to largest\n",
    "    sorted_points = [x for _, x in sorted(zip(dist, points))] # sort the targets based on shortest distance between starting point\n",
    "    sorted_points.insert(0, start) # insert starting point to the list for execution\n",
    "\n",
    "    # perform A* search\n",
    "    start = time.time() # To calculate searching time\n",
    "    while len(sorted_points) > 1:\n",
    "        path, visited = astar(maze, sorted_points[0], sorted_points[1], heuristic)\n",
    "        print(\"Found Target: \", sorted_points[1])\n",
    "        sorted_points.remove(sorted_points[0]) # Remove visited target\n",
    "        total_path += path\n",
    "        total_visited += visited\n",
    "        print(\"Cost to find the current target is:\", calculate_cost(path))\n",
    "        total_cost += calculate_cost(path)\n",
    "    elapsed_time = time.time() - start\n",
    "    \n",
    "    return total_path, total_visited, total_cost, elapsed_time"
   ]
  },
  {
   "attachments": {},
   "cell_type": "markdown",
   "id": "6a750212",
   "metadata": {},
   "source": [
    "<a id = \"data_1\"></a></a><div style=\"text-align: right\"> <a href=#Table_of_content>Back?</a> </div>\n",
    "# A* Path Finding on Data_1.txt Map\n",
    "\n",
    "Here, we will perform A* Search using Euclidean Heuristic Function and Manhattan Heuristic Function on the data_1.txt map."
   ]
  },
  {
   "cell_type": "code",
   "execution_count": 16,
   "id": "d71f287e",
   "metadata": {},
   "outputs": [
    {
     "name": "stdout",
     "output_type": "stream",
     "text": [
      "The shape of the environment array is : (400, 365)\n"
     ]
    }
   ],
   "source": [
    "# Create an environment for data_1.txt map\n",
    "environment = create_environment('data_1.txt')"
   ]
  },
  {
   "cell_type": "code",
   "execution_count": 17,
   "id": "61b0cdba",
   "metadata": {},
   "outputs": [
    {
     "name": "stdout",
     "output_type": "stream",
     "text": [
      "Starting point:  (123, 62)\n",
      "Targets:  [(314, 212)]\n"
     ]
    }
   ],
   "source": [
    "# get starting point and targets\n",
    "start = ind(environment, 2)\n",
    "print(\"Starting point: \", start)\n",
    "numrows, numcols = environment.shape\n",
    "points = [(r,c) for r in range(numrows) for c in range(numcols) if environment[r,c] == 3]\n",
    "print(\"Targets: \", points)"
   ]
  },
  {
   "cell_type": "code",
   "execution_count": 18,
   "id": "0efccd2d",
   "metadata": {},
   "outputs": [],
   "source": [
    "# Create final environment\n",
    "env = environment_setup(environment)"
   ]
  },
  {
   "cell_type": "code",
   "execution_count": 19,
   "id": "611eeb42",
   "metadata": {},
   "outputs": [
    {
     "name": "stdout",
     "output_type": "stream",
     "text": [
      "Found Target:  (314, 212)\n",
      "Cost to find the current target is: 2754\n",
      "\n",
      "Data 1 Map running time using Euclidean Distance is 2.4061899185180664 seconds\n"
     ]
    }
   ],
   "source": [
    "# Perform A* search on data 1 map using Euclidean Distance Heuristic\n",
    "euclidean_path, euclidean_visited, euclidean_cost, euclidean_time = run_astar(env, start, points, 'euclidean')\n",
    "print(f\"\\nData 1 Map running time using Euclidean Distance is {euclidean_time} seconds\")"
   ]
  },
  {
   "cell_type": "code",
   "execution_count": 20,
   "id": "e8d372e0",
   "metadata": {},
   "outputs": [
    {
     "name": "stdout",
     "output_type": "stream",
     "text": [
      "Using Euclidean Heuristic Function, we have visited 2538 position.\n",
      "\n",
      "Length of Optimal Path: 218\n",
      "\n",
      "Cost of Optimal Path using Euclidean Heuristic Function: 2754\n"
     ]
    }
   ],
   "source": [
    "# Show the optimal path\n",
    "print(f\"Using Euclidean Heuristic Function, we have visited {euclidean_visited} position.\")\n",
    "print(\"\\nLength of Optimal Path:\", len(euclidean_path))\n",
    "print(\"\\nCost of Optimal Path using Euclidean Heuristic Function:\", calculate_cost(euclidean_path))"
   ]
  },
  {
   "cell_type": "code",
   "execution_count": 21,
   "id": "3958b10c",
   "metadata": {},
   "outputs": [
    {
     "data": {
      "image/png": "[encoded data removed]",
      "text/plain": [
       "<Figure size 526.027x480 with 1 Axes>"
      ]
     },
     "metadata": {},
     "output_type": "display_data"
    }
   ],
   "source": [
    "plot(env, euclidean_path)"
   ]
  },
  {
   "cell_type": "code",
   "execution_count": 19,
   "id": "73d4d423",
   "metadata": {},
   "outputs": [
    {
     "name": "stdout",
     "output_type": "stream",
     "text": [
      "Number of common coordinates between obstacles and optimal path:0\n"
     ]
    }
   ],
   "source": [
    "# Make sure the optimal path did not go through obstacle\n",
    "numrows, numcols = env.shape\n",
    "obstacles = [(r,c) for r in range(numrows) for c in range(numcols) if env[r,c] == 1]\n",
    "intersection = check_common(obstacles, euclidean_path)\n",
    "print(f'Number of common coordinates between obstacles and optimal path:{len(intersection)}')"
   ]
  },
  {
   "cell_type": "code",
   "execution_count": 20,
   "id": "aee28a6b",
   "metadata": {},
   "outputs": [
    {
     "name": "stdout",
     "output_type": "stream",
     "text": [
      "Found Target:  (314, 212)\n",
      "Cost to find the current target is: 2754\n",
      "\n",
      "Data 1 Map running time using Manhattan Distance is 0.6355459690093994 seconds\n"
     ]
    }
   ],
   "source": [
    "# Perform A* search on data 1 map using Manhattan Distance Heuristic\n",
    "manhattan_path, manhattan_visited, manhattan_cost, manhattan_time = run_astar(env, start, points, 'manhattan')\n",
    "print(f\"\\nData 1 Map running time using Manhattan Distance is {manhattan_time} seconds\")"
   ]
  },
  {
   "cell_type": "code",
   "execution_count": 21,
   "id": "79cb71db",
   "metadata": {},
   "outputs": [
    {
     "name": "stdout",
     "output_type": "stream",
     "text": [
      "Using Manhattan Heuristic Function, we have visited 1206 position.\n",
      "\n",
      "Length of Optimal Path: 218\n",
      "\n",
      "Cost of Optimal Path using Manhattan Heuristic Function: 2754\n"
     ]
    }
   ],
   "source": [
    "# Show the optimal path\n",
    "print(f\"Using Manhattan Heuristic Function, we have visited {manhattan_visited} position.\")\n",
    "print(\"\\nLength of Optimal Path:\", len(manhattan_path))\n",
    "print(\"\\nCost of Optimal Path using Manhattan Heuristic Function:\", calculate_cost(manhattan_path))"
   ]
  },
  {
   "cell_type": "code",
   "execution_count": 22,
   "id": "e9499f8b",
   "metadata": {},
   "outputs": [
    {
     "data": {
      "image/png": "[encoded data removed]",
      "text/plain": [
       "<Figure size 526.027x480 with 1 Axes>"
      ]
     },
     "metadata": {},
     "output_type": "display_data"
    }
   ],
   "source": [
    "plot(env, manhattan_path)"
   ]
  },
  {
   "cell_type": "code",
   "execution_count": 23,
   "id": "921e9483",
   "metadata": {},
   "outputs": [
    {
     "name": "stdout",
     "output_type": "stream",
     "text": [
      "Number of common coordinates between obstacles and optimal path: 0\n"
     ]
    }
   ],
   "source": [
    "# Make sure the optimal path did not went through obstacles\n",
    "numrows, numcols = env.shape\n",
    "obstacles = [(r,c) for r in range(numrows) for c in range(numcols) if env[r,c] == 1]\n",
    "intersection = check_common(obstacles, manhattan_path)\n",
    "print(f'Number of common coordinates between obstacles and optimal path: {len(intersection)}')"
   ]
  },
  {
   "cell_type": "code",
   "execution_count": 24,
   "id": "d6c1a8c8",
   "metadata": {},
   "outputs": [
    {
     "name": "stdout",
     "output_type": "stream",
     "text": [
      "Using Euclidean Heuristic Function, the length of optimal path is: 218\n",
      "Using Manhattan Heuristic Function, the length of optimal path is: 218\n"
     ]
    }
   ],
   "source": [
    "print(\"Using Euclidean Heuristic Function, the length of optimal path is:\", len(euclidean_path))\n",
    "print(\"Using Manhattan Heuristic Function, the length of optimal path is:\", len(manhattan_path))"
   ]
  },
  {
   "cell_type": "markdown",
   "id": "d16293b8",
   "metadata": {},
   "source": [
    "Both Euclidean and Manhattan Heuristic Function will provide the same optimal path. The cost of the optimal path is also the same. Therefore, we can conclude that both heuristic function will provide the same and consistent results.\n",
    "\n",
    "However, Manhattan Heuristic Function explored less nodes than Euclidean Heuristic Function."
   ]
  },
  {
   "attachments": {},
   "cell_type": "markdown",
   "id": "83798fe7",
   "metadata": {},
   "source": [
    "<a id = \"competition_map\"></a></a><div style=\"text-align: right\"> <a href=#Table_of_content>Back?</a> </div>\n",
    "# A* Path Finding on Competition Maps\n",
    "\n",
    "Here, we will perform A* Search using Euclidean Heuristic Function and Manhattan Heuristic Function on the competition map."
   ]
  },
  {
   "attachments": {},
   "cell_type": "markdown",
   "id": "7841e8bd",
   "metadata": {},
   "source": [
    "<a id = \"round_1\"></a>\n",
    "### Round 1 Map"
   ]
  },
  {
   "cell_type": "code",
   "execution_count": 25,
   "id": "002b0e5e",
   "metadata": {},
   "outputs": [
    {
     "name": "stdout",
     "output_type": "stream",
     "text": [
      "The shape of the environment array is : (400, 365)\n"
     ]
    }
   ],
   "source": [
    "round_1 = create_environment('round_1.txt')"
   ]
  },
  {
   "cell_type": "code",
   "execution_count": 26,
   "id": "c14a32ee",
   "metadata": {},
   "outputs": [
    {
     "name": "stdout",
     "output_type": "stream",
     "text": [
      "Starting point:  (314, 212)\n",
      "Targets:  [(53, 276)]\n"
     ]
    }
   ],
   "source": [
    "# get starting point and targets\n",
    "start = ind(round_1, 2)\n",
    "print(\"Starting point: \", start)\n",
    "numrows, numcols = round_1.shape\n",
    "points = [(r,c) for r in range(numrows) for c in range(numcols) if round_1[r,c] == 3]\n",
    "print(\"Targets: \", points)"
   ]
  },
  {
   "cell_type": "code",
   "execution_count": 27,
   "id": "bd1ad11e",
   "metadata": {},
   "outputs": [],
   "source": [
    "round_1 = environment_setup(round_1)"
   ]
  },
  {
   "cell_type": "code",
   "execution_count": 28,
   "id": "bd1b3107",
   "metadata": {},
   "outputs": [
    {
     "name": "stdout",
     "output_type": "stream",
     "text": [
      "Found Target:  (53, 276)\n",
      "Cost to find the current target is: 2962\n",
      "\n",
      "Round 1 running time using Euclidean Distance is 18.082518100738525 seconds\n"
     ]
    }
   ],
   "source": [
    "# Perform A* search on round 1 map using Euclidean Distance Heuristic\n",
    "euclidean_round_1_path, euclidean_round_1_visited, euclidean_round_1_cost, euclidean_round_1_time = run_astar(round_1, start, points, 'euclidean')\n",
    "print(f\"\\nRound 1 running time using Euclidean Distance is {euclidean_round_1_time} seconds\")"
   ]
  },
  {
   "cell_type": "code",
   "execution_count": 29,
   "id": "7b17bdb6",
   "metadata": {},
   "outputs": [
    {
     "name": "stdout",
     "output_type": "stream",
     "text": [
      "Length of Optimal Path for Round 1 Competition Map using Euclidean Distance: 262\n",
      "Cost of Optimal Path for Round 1 Competition Map using Euclidean Distance: 2962\n",
      "Number of nodes explored for Round 1 Competition Map using Euclidean Distance: 6948\n"
     ]
    }
   ],
   "source": [
    "euclidean_round_1_path = list(dict.fromkeys(euclidean_round_1_path))\n",
    "print(\"Length of Optimal Path for Round 1 Competition Map using Euclidean Distance:\", len(euclidean_round_1_path))\n",
    "print(\"Cost of Optimal Path for Round 1 Competition Map using Euclidean Distance:\", euclidean_round_1_cost)\n",
    "print(\"Number of nodes explored for Round 1 Competition Map using Euclidean Distance:\", euclidean_round_1_visited)"
   ]
  },
  {
   "cell_type": "code",
   "execution_count": 30,
   "id": "d55a3632",
   "metadata": {},
   "outputs": [
    {
     "data": {
      "image/png": "[encoded data removed]",
      "text/plain": [
       "<Figure size 526.027x480 with 1 Axes>"
      ]
     },
     "metadata": {},
     "output_type": "display_data"
    }
   ],
   "source": [
    "plot(round_1, euclidean_round_1_path)"
   ]
  },
  {
   "cell_type": "code",
   "execution_count": 31,
   "id": "10f13e35",
   "metadata": {},
   "outputs": [
    {
     "name": "stdout",
     "output_type": "stream",
     "text": [
      "Found Target:  (53, 276)\n",
      "Cost to find the current target is: 2962\n",
      "\n",
      "Round 1 running time using Manhattan Distance is 5.507334232330322 seconds\n"
     ]
    }
   ],
   "source": [
    "# Perform A* search on round 1 map using Manhattan Distance Heuristic\n",
    "manhattan_round_1_path, manhattan_round_1_visited, manhattan_round_1_cost, manhattan_round_1_time = run_astar(round_1, start, points, 'manhattan')\n",
    "print(f\"\\nRound 1 running time using Manhattan Distance is {manhattan_round_1_time} seconds\")"
   ]
  },
  {
   "cell_type": "code",
   "execution_count": 32,
   "id": "436af4d3",
   "metadata": {},
   "outputs": [
    {
     "name": "stdout",
     "output_type": "stream",
     "text": [
      "Length of Optimal Path for Round 1 Competition Map using Manhattan Distance: 262\n",
      "Cost of Optimal Path for Round 1 Competition Map using Manhattan Distance: 2962\n",
      "Number of nodes explored for Round 1 Competition Map using Manhattan Distance: 3781\n"
     ]
    }
   ],
   "source": [
    "manhattan_round_1_path = list(dict.fromkeys(manhattan_round_1_path))\n",
    "print(\"Length of Optimal Path for Round 1 Competition Map using Manhattan Distance:\", len(manhattan_round_1_path))\n",
    "print(\"Cost of Optimal Path for Round 1 Competition Map using Manhattan Distance:\", manhattan_round_1_cost)\n",
    "print(\"Number of nodes explored for Round 1 Competition Map using Manhattan Distance:\", manhattan_round_1_visited)"
   ]
  },
  {
   "cell_type": "code",
   "execution_count": 33,
   "id": "cf9b9447",
   "metadata": {},
   "outputs": [
    {
     "data": {
      "image/png": "[encoded data removed]",
      "text/plain": [
       "<Figure size 526.027x480 with 1 Axes>"
      ]
     },
     "metadata": {},
     "output_type": "display_data"
    }
   ],
   "source": [
    "plot(round_1, manhattan_round_1_path)"
   ]
  },
  {
   "cell_type": "code",
   "execution_count": 34,
   "id": "d7737c1d",
   "metadata": {},
   "outputs": [
    {
     "name": "stdout",
     "output_type": "stream",
     "text": [
      "Number of common coordinates between obstacles and optimal path using Euclidean Distance: 0\n",
      "Number of common coordinates between obstacles and optimal path using Manhattan Distance: 0\n"
     ]
    }
   ],
   "source": [
    "# Make sure the optimal path did not go through obstacle\n",
    "numrows, numcols = round_1.shape\n",
    "obstacles = [(r,c) for r in range(numrows) for c in range(numcols) if round_1[r,c] == 1]\n",
    "euclidean_intersection = check_common(obstacles, euclidean_round_1_path)\n",
    "manhattan_intersection = check_common(obstacles, manhattan_round_1_path)\n",
    "print(f'Number of common coordinates between obstacles and optimal path using Euclidean Distance: {len(euclidean_intersection)}')\n",
    "print(f'Number of common coordinates between obstacles and optimal path using Manhattan Distance: {len(manhattan_intersection)}')"
   ]
  },
  {
   "attachments": {},
   "cell_type": "markdown",
   "id": "573d5a8f",
   "metadata": {},
   "source": [
    "<a id = \"round_2\"></a>\n",
    "### Round 2 Map"
   ]
  },
  {
   "cell_type": "code",
   "execution_count": 35,
   "id": "cb63b32b",
   "metadata": {},
   "outputs": [
    {
     "name": "stdout",
     "output_type": "stream",
     "text": [
      "The shape of the environment array is : (400, 365)\n"
     ]
    }
   ],
   "source": [
    "round_2 = create_environment('round_2.txt')"
   ]
  },
  {
   "cell_type": "code",
   "execution_count": 36,
   "id": "f9c240a4",
   "metadata": {},
   "outputs": [
    {
     "name": "stdout",
     "output_type": "stream",
     "text": [
      "Starting point:  (222, 248)\n",
      "Targets:  [(51, 231), (247, 53)]\n"
     ]
    }
   ],
   "source": [
    "# get starting point and targets\n",
    "numrows, numcols = round_2.shape\n",
    "start = ind(round_2, 2)\n",
    "points = [(r,c) for r in range(numrows) for c in range(numcols) if round_2[r,c] == 3]\n",
    "print(\"Starting point: \", start)\n",
    "print(\"Targets: \", points)"
   ]
  },
  {
   "cell_type": "code",
   "execution_count": 37,
   "id": "def4f4dd",
   "metadata": {},
   "outputs": [],
   "source": [
    "round_2 = environment_setup(round_2)"
   ]
  },
  {
   "cell_type": "code",
   "execution_count": 38,
   "id": "e9bbcc62",
   "metadata": {},
   "outputs": [
    {
     "name": "stdout",
     "output_type": "stream",
     "text": [
      "Found Target:  (51, 231)\n",
      "Cost to find the current target is: 1778\n",
      "Found Target:  (247, 53)\n",
      "Cost to find the current target is: 2758\n",
      "\n",
      "Round 2 running time using Euclidean Distance is 0.13261699676513672 seconds\n"
     ]
    }
   ],
   "source": [
    "# Perform A* search on round 2 map using Euclidean Distance Heuristic\n",
    "euclidean_round_2_path, euclidean_round_2_visited, euclidean_round_2_cost, euclidean_round_2_time = run_astar(round_2, start, points, 'euclidean')\n",
    "print(f\"\\nRound 2 running time using Euclidean Distance is {euclidean_round_2_time} seconds\")"
   ]
  },
  {
   "cell_type": "code",
   "execution_count": 39,
   "id": "000cc77a",
   "metadata": {},
   "outputs": [
    {
     "name": "stdout",
     "output_type": "stream",
     "text": [
      "Length of Optimal Path for Round 2 Competition Map using Euclidean Distance: 377\n",
      "Cost of Optimal Path for Round 2 Competition Map using Euclidean Distance: 4536\n",
      "Number of nodes explored for Round 2 Competition Map using Euclidean Distance: 502\n"
     ]
    }
   ],
   "source": [
    "euclidean_round_2_path = list(dict.fromkeys(euclidean_round_2_path))\n",
    "euclidean_round_2_visited = euclidean_round_2_visited - 1\n",
    "print(\"Length of Optimal Path for Round 2 Competition Map using Euclidean Distance:\", len(euclidean_round_2_path))\n",
    "print(\"Cost of Optimal Path for Round 2 Competition Map using Euclidean Distance:\", euclidean_round_2_cost)\n",
    "print(\"Number of nodes explored for Round 2 Competition Map using Euclidean Distance:\", euclidean_round_2_visited)"
   ]
  },
  {
   "cell_type": "code",
   "execution_count": 40,
   "id": "66c27a2b",
   "metadata": {},
   "outputs": [
    {
     "data": {
      "image/png": "[encoded data removed]",
      "text/plain": [
       "<Figure size 526.027x480 with 1 Axes>"
      ]
     },
     "metadata": {},
     "output_type": "display_data"
    }
   ],
   "source": [
    "plot(round_2, euclidean_round_2_path)"
   ]
  },
  {
   "cell_type": "code",
   "execution_count": 41,
   "id": "ca39d9b2",
   "metadata": {},
   "outputs": [
    {
     "name": "stdout",
     "output_type": "stream",
     "text": [
      "Found Target:  (51, 231)\n",
      "Cost to find the current target is: 1778\n",
      "Found Target:  (247, 53)\n",
      "Cost to find the current target is: 2758\n",
      "\n",
      "Round 2 running time using Manhattan Distance is 0.09071230888366699 seconds\n"
     ]
    }
   ],
   "source": [
    "# Perform A* search on round 2 map using Manhattan Distance Heuristic\n",
    "manhattan_round_2_path, manhattan_round_2_visited, manhattan_round_2_cost, manhattan_round_2_time = run_astar(round_2, start, points, 'manhattan')\n",
    "print(f\"\\nRound 2 running time using Manhattan Distance is {manhattan_round_2_time} seconds\")"
   ]
  },
  {
   "cell_type": "code",
   "execution_count": 42,
   "id": "c192afcf",
   "metadata": {},
   "outputs": [
    {
     "name": "stdout",
     "output_type": "stream",
     "text": [
      "Length of Optimal Path for Round 2 Competition Map using Manhattan Distance: 377\n",
      "Cost of Optimal Path for Round 2 Competition Map using Manhattan Distance: 4536\n",
      "Number of nodes explored for Round 2 Competition Map using Manhattan Distance: 461\n"
     ]
    }
   ],
   "source": [
    "manhattan_round_2_path = list(dict.fromkeys(manhattan_round_2_path))\n",
    "manhattan_round_2_visited = manhattan_round_2_visited - 1\n",
    "print(\"Length of Optimal Path for Round 2 Competition Map using Manhattan Distance:\", len(manhattan_round_2_path))\n",
    "print(\"Cost of Optimal Path for Round 2 Competition Map using Manhattan Distance:\", manhattan_round_2_cost)\n",
    "print(\"Number of nodes explored for Round 2 Competition Map using Manhattan Distance:\", manhattan_round_2_visited)"
   ]
  },
  {
   "cell_type": "code",
   "execution_count": 43,
   "id": "1979eb89",
   "metadata": {},
   "outputs": [
    {
     "data": {
      "image/png": "[encoded data removed]",
      "text/plain": [
       "<Figure size 526.027x480 with 1 Axes>"
      ]
     },
     "metadata": {},
     "output_type": "display_data"
    }
   ],
   "source": [
    "plot(round_2, manhattan_round_2_path)"
   ]
  },
  {
   "cell_type": "code",
   "execution_count": 44,
   "id": "c3614eb7",
   "metadata": {},
   "outputs": [
    {
     "name": "stdout",
     "output_type": "stream",
     "text": [
      "Number of common coordinates between obstacles and optimal path using Euclidean Distance: 0\n",
      "Number of common coordinates between obstacles and optimal path using Manhattan Distance: 0\n"
     ]
    }
   ],
   "source": [
    "# Make sure the optimal path did not go through obstacle\n",
    "numrows, numcols = round_2.shape\n",
    "obstacles = [(r,c) for r in range(numrows) for c in range(numcols) if round_2[r,c] == 1]\n",
    "euclidean_intersection = check_common(obstacles, euclidean_round_2_path)\n",
    "manhattan_intersection = check_common(obstacles, manhattan_round_2_path)\n",
    "print(f'Number of common coordinates between obstacles and optimal path using Euclidean Distance: {len(euclidean_intersection)}')\n",
    "print(f'Number of common coordinates between obstacles and optimal path using Manhattan Distance: {len(manhattan_intersection)}')"
   ]
  },
  {
   "attachments": {},
   "cell_type": "markdown",
   "id": "5b834a81",
   "metadata": {},
   "source": [
    "<a id = \"round_3\"></a>\n",
    "### Round 3 Map"
   ]
  },
  {
   "cell_type": "code",
   "execution_count": 45,
   "id": "8a9c0cc8",
   "metadata": {},
   "outputs": [
    {
     "name": "stdout",
     "output_type": "stream",
     "text": [
      "The shape of the environment array is : (400, 365)\n"
     ]
    }
   ],
   "source": [
    "round_3 = create_environment('round_3.txt')"
   ]
  },
  {
   "cell_type": "code",
   "execution_count": 46,
   "id": "d11e2170",
   "metadata": {},
   "outputs": [
    {
     "name": "stdout",
     "output_type": "stream",
     "text": [
      "Starting point:  (192, 125)\n",
      "Targets:  [(52, 88), (294, 200), (376, 226)]\n"
     ]
    }
   ],
   "source": [
    "# get starting point and targets\n",
    "numrows, numcols = round_3.shape\n",
    "start = ind(round_3, 2)\n",
    "points = [(r,c) for r in range(numrows) for c in range(numcols) if round_3[r,c] == 3]\n",
    "print(\"Starting point: \", start)\n",
    "print(\"Targets: \", points)"
   ]
  },
  {
   "cell_type": "code",
   "execution_count": 47,
   "id": "291ce267",
   "metadata": {},
   "outputs": [],
   "source": [
    "round_3 = environment_setup(round_3)"
   ]
  },
  {
   "cell_type": "code",
   "execution_count": 52,
   "id": "9a42d79a",
   "metadata": {},
   "outputs": [
    {
     "name": "stdout",
     "output_type": "stream",
     "text": [
      "Found Target:  (52, 88)\n",
      "Cost to find the current target is: 1668\n",
      "Found Target:  (294, 200)\n",
      "Cost to find the current target is: 3196\n",
      "Found Target:  (376, 226)\n",
      "Cost to find the current target is: 1708\n",
      "\n",
      "Round 3 running time using Euclidean Distance is 249.77783823013306 seconds\n"
     ]
    }
   ],
   "source": [
    "# Perform A* search on round 3 map using Euclidean Distance Heuristic\n",
    "euclidean_round_3_path, euclidean_round_3_visited, euclidean_round_3_cost, euclidean_round_3_time = run_astar(round_3, start, points, 'euclidean')\n",
    "print(f\"\\nRound 3 running time using Euclidean Distance is {euclidean_round_3_time} seconds\")"
   ]
  },
  {
   "cell_type": "code",
   "execution_count": 49,
   "id": "945d1a45",
   "metadata": {},
   "outputs": [
    {
     "name": "stdout",
     "output_type": "stream",
     "text": [
      "Length of Optimal Path for Round 3 Competition Map using Euclidean Distance: 545\n",
      "Cost of Optimal Path for Round 3 Competition Map using Euclidean Distance: 6572\n",
      "Number of nodes explored for Round 3 Competition Map using Euclidean Distance: 28246\n"
     ]
    }
   ],
   "source": [
    "euclidean_round_3_path = list(dict.fromkeys(euclidean_round_3_path))\n",
    "euclidean_round_3_visited = euclidean_round_3_visited - 2\n",
    "print(\"Length of Optimal Path for Round 3 Competition Map using Euclidean Distance:\", len(euclidean_round_3_path))\n",
    "print(\"Cost of Optimal Path for Round 3 Competition Map using Euclidean Distance:\", euclidean_round_3_cost)\n",
    "print(\"Number of nodes explored for Round 3 Competition Map using Euclidean Distance:\", euclidean_round_3_visited)"
   ]
  },
  {
   "cell_type": "code",
   "execution_count": 50,
   "id": "ca1d4bdd",
   "metadata": {},
   "outputs": [
    {
     "data": {
      "image/png": "[encoded data removed]",
      "text/plain": [
       "<Figure size 526.027x480 with 1 Axes>"
      ]
     },
     "metadata": {},
     "output_type": "display_data"
    }
   ],
   "source": [
    "plot(round_3, euclidean_round_3_path)"
   ]
  },
  {
   "cell_type": "code",
   "execution_count": 53,
   "id": "524ac50d",
   "metadata": {},
   "outputs": [
    {
     "name": "stdout",
     "output_type": "stream",
     "text": [
      "Found Target:  (52, 88)\n",
      "Cost to find the current target is: 1668\n",
      "Found Target:  (294, 200)\n",
      "Cost to find the current target is: 3196\n",
      "Found Target:  (376, 226)\n",
      "Cost to find the current target is: 1708\n",
      "\n",
      "Round 3 running time using Manhattan Distance is 78.52897119522095 seconds\n"
     ]
    }
   ],
   "source": [
    "# Perform A* search on round 3 map using Manhattan Distance Heuristic\n",
    "manhattan_round_3_path, manhattan_round_3_visited, manhattan_round_3_cost, manhattan_round_3_time = run_astar(round_3, start, points, 'manhattan')\n",
    "print(f\"\\nRound 3 running time using Manhattan Distance is {manhattan_round_3_time} seconds\")"
   ]
  },
  {
   "cell_type": "code",
   "execution_count": 54,
   "id": "36082988",
   "metadata": {},
   "outputs": [
    {
     "name": "stdout",
     "output_type": "stream",
     "text": [
      "Length of Optimal Path for Round 3 Competition Map using Manhattan Distance: 545\n",
      "Cost of Optimal Path for Round 3 Competition Map using Manhattan Distance: 6572\n",
      "Number of nodes explored for Round 3 Competition Map using Manhattan Distance: 17327\n"
     ]
    }
   ],
   "source": [
    "manhattan_round_3_path = list(dict.fromkeys(manhattan_round_3_path))\n",
    "manhattan_round_3_visited = manhattan_round_3_visited - 2\n",
    "print(\"Length of Optimal Path for Round 3 Competition Map using Manhattan Distance:\", len(manhattan_round_3_path))\n",
    "print(\"Cost of Optimal Path for Round 3 Competition Map using Manhattan Distance:\", manhattan_round_3_cost)\n",
    "print(\"Number of nodes explored for Round 3 Competition Map using Manhattan Distance:\", manhattan_round_3_visited)"
   ]
  },
  {
   "cell_type": "code",
   "execution_count": 55,
   "id": "719bcc8e",
   "metadata": {},
   "outputs": [
    {
     "data": {
      "image/png": "[encoded data removed]",
      "text/plain": [
       "<Figure size 526.027x480 with 1 Axes>"
      ]
     },
     "metadata": {},
     "output_type": "display_data"
    }
   ],
   "source": [
    "plot(round_3, manhattan_round_3_path)"
   ]
  },
  {
   "cell_type": "code",
   "execution_count": 56,
   "id": "ecc5fea8",
   "metadata": {},
   "outputs": [
    {
     "name": "stdout",
     "output_type": "stream",
     "text": [
      "Number of common coordinates between obstacles and optimal path using Euclidean Distance: 0\n",
      "Number of common coordinates between obstacles and optimal path using Manhattan Distance: 0\n"
     ]
    }
   ],
   "source": [
    "# Make sure the optimal path did not go through obstacle\n",
    "numrows, numcols = round_3.shape\n",
    "obstacles = [(r,c) for r in range(numrows) for c in range(numcols) if round_3[r,c] == 1]\n",
    "euclidean_intersection = check_common(obstacles, euclidean_round_3_path)\n",
    "manhattan_intersection = check_common(obstacles, manhattan_round_3_path)\n",
    "print(f'Number of common coordinates between obstacles and optimal path using Euclidean Distance: {len(euclidean_intersection)}')\n",
    "print(f'Number of common coordinates between obstacles and optimal path using Manhattan Distance: {len(euclidean_intersection)}')"
   ]
  }
 ],
 "metadata": {
  "kernelspec": {
   "display_name": "Python 3",
   "language": "python",
   "name": "python3"
  },
  "language_info": {
   "codemirror_mode": {
    "name": "ipython",
    "version": 3
   },
   "file_extension": ".py",
   "mimetype": "text/x-python",
   "name": "python",
   "nbconvert_exporter": "python",
   "pygments_lexer": "ipython3",
   "version": "3.9.13"
  },
  "vscode": {
   "interpreter": {
    "hash": "85df4d8eb55ec4d09872faeb6b150a812d52360d2d1ccd4674b861528cf99dd9"
   }
  }
 },
 "nbformat": 4,
 "nbformat_minor": 5
}
